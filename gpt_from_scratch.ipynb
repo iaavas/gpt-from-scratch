{
  "nbformat": 4,
  "nbformat_minor": 0,
  "metadata": {
    "colab": {
      "provenance": [],
      "authorship_tag": "ABX9TyM9GaWP9B7hIJLU3Von0gat",
      "include_colab_link": true
    },
    "kernelspec": {
      "name": "python3",
      "display_name": "Python 3"
    },
    "language_info": {
      "name": "python"
    }
  },
  "cells": [
    {
      "cell_type": "markdown",
      "metadata": {
        "id": "view-in-github",
        "colab_type": "text"
      },
      "source": [
        "<a href=\"https://colab.research.google.com/github/iaavas/gpt-from-scratch/blob/master/gpt_from_scratch.ipynb\" target=\"_parent\"><img src=\"https://colab.research.google.com/assets/colab-badge.svg\" alt=\"Open In Colab\"/></a>"
      ]
    },
    {
      "cell_type": "code",
      "execution_count": null,
      "metadata": {
        "colab": {
          "base_uri": "https://localhost:8080/"
        },
        "id": "b-5op25aWSWq",
        "outputId": "c493af11-eda3-4718-d51f-e04f2e2799f6"
      },
      "outputs": [
        {
          "output_type": "stream",
          "name": "stdout",
          "text": [
            "--2024-09-20 13:21:23--  https://raw.githubusercontent.com/karpathy/char-rnn/master/data/tinyshakespeare/input.txt\n",
            "Resolving raw.githubusercontent.com (raw.githubusercontent.com)... 185.199.108.133, 185.199.109.133, 185.199.110.133, ...\n",
            "Connecting to raw.githubusercontent.com (raw.githubusercontent.com)|185.199.108.133|:443... connected.\n",
            "HTTP request sent, awaiting response... 200 OK\n",
            "Length: 1115394 (1.1M) [text/plain]\n",
            "Saving to: ‘input.txt’\n",
            "\n",
            "input.txt           100%[===================>]   1.06M  --.-KB/s    in 0.04s   \n",
            "\n",
            "2024-09-20 13:21:23 (28.1 MB/s) - ‘input.txt’ saved [1115394/1115394]\n",
            "\n"
          ]
        }
      ],
      "source": [
        "!wget https://raw.githubusercontent.com/karpathy/char-rnn/master/data/tinyshakespeare/input.txt"
      ]
    },
    {
      "cell_type": "code",
      "source": [
        "with open('input.txt', 'r', encoding='utf-8') as f:\n",
        "    text = f.read()"
      ],
      "metadata": {
        "id": "V2akOmc5WjZB"
      },
      "execution_count": null,
      "outputs": []
    },
    {
      "cell_type": "code",
      "source": [
        "print(\"length of dataset in characters: \", len(text))"
      ],
      "metadata": {
        "colab": {
          "base_uri": "https://localhost:8080/"
        },
        "id": "vwqrqiiaWpXv",
        "outputId": "fad7973f-0bb6-46bf-ebcd-29569ad43400"
      },
      "execution_count": null,
      "outputs": [
        {
          "output_type": "stream",
          "name": "stdout",
          "text": [
            "length of dataset in characters:  1115394\n"
          ]
        }
      ]
    },
    {
      "cell_type": "code",
      "source": [
        "print(text[:1000])"
      ],
      "metadata": {
        "colab": {
          "base_uri": "https://localhost:8080/"
        },
        "id": "I7eKAHyaWp1l",
        "outputId": "587cc668-c0b7-4285-d66b-28d79799bbb0"
      },
      "execution_count": null,
      "outputs": [
        {
          "output_type": "stream",
          "name": "stdout",
          "text": [
            "First Citizen:\n",
            "Before we proceed any further, hear me speak.\n",
            "\n",
            "All:\n",
            "Speak, speak.\n",
            "\n",
            "First Citizen:\n",
            "You are all resolved rather to die than to famish?\n",
            "\n",
            "All:\n",
            "Resolved. resolved.\n",
            "\n",
            "First Citizen:\n",
            "First, you know Caius Marcius is chief enemy to the people.\n",
            "\n",
            "All:\n",
            "We know't, we know't.\n",
            "\n",
            "First Citizen:\n",
            "Let us kill him, and we'll have corn at our own price.\n",
            "Is't a verdict?\n",
            "\n",
            "All:\n",
            "No more talking on't; let it be done: away, away!\n",
            "\n",
            "Second Citizen:\n",
            "One word, good citizens.\n",
            "\n",
            "First Citizen:\n",
            "We are accounted poor citizens, the patricians good.\n",
            "What authority surfeits on would relieve us: if they\n",
            "would yield us but the superfluity, while it were\n",
            "wholesome, we might guess they relieved us humanely;\n",
            "but they think we are too dear: the leanness that\n",
            "afflicts us, the object of our misery, is as an\n",
            "inventory to particularise their abundance; our\n",
            "sufferance is a gain to them Let us revenge this with\n",
            "our pikes, ere we become rakes: for the gods know I\n",
            "speak this in hunger for bread, not in thirst for revenge.\n",
            "\n",
            "\n"
          ]
        }
      ]
    },
    {
      "cell_type": "code",
      "source": [
        "chars = sorted(list(set(text)))\n",
        "vocab_size = len(chars)\n",
        "print(''.join(chars))\n",
        "print(vocab_size)"
      ],
      "metadata": {
        "colab": {
          "base_uri": "https://localhost:8080/"
        },
        "id": "camkTd8SWwiv",
        "outputId": "4a5a36b4-cbf7-4dd2-de34-1700dec490bf"
      },
      "execution_count": null,
      "outputs": [
        {
          "output_type": "stream",
          "name": "stdout",
          "text": [
            "\n",
            " !$&',-.3:;?ABCDEFGHIJKLMNOPQRSTUVWXYZabcdefghijklmnopqrstuvwxyz\n",
            "65\n"
          ]
        }
      ]
    },
    {
      "cell_type": "code",
      "source": [
        "stoi = { ch:i for i,ch in enumerate(chars) }\n",
        "itos = { i:ch for i,ch in enumerate(chars) }\n",
        "encode = lambda s: [stoi[c] for c in s] # encoder: take a string, output a list of integers\n",
        "decode = lambda l: ''.join([itos[i] for i in l]) # decoder: take a list of integers, output a string\n",
        "\n",
        "my_string = \"Aavash\"\n",
        "print(encode(my_string))\n",
        "print(decode(encode(my_string)))"
      ],
      "metadata": {
        "colab": {
          "base_uri": "https://localhost:8080/"
        },
        "id": "VvdnBje3W5mn",
        "outputId": "7def486e-377b-4b15-8d6d-f3097a5ec81f"
      },
      "execution_count": null,
      "outputs": [
        {
          "output_type": "stream",
          "name": "stdout",
          "text": [
            "[13, 39, 60, 39, 57, 46]\n",
            "Aavash\n"
          ]
        }
      ]
    },
    {
      "cell_type": "code",
      "source": [
        "import torch\n",
        "data = torch.tensor(encode(text), dtype=torch.long)\n",
        "print(data.shape, data.dtype)\n",
        "print(data[:1000])"
      ],
      "metadata": {
        "id": "d1N1KPBtW6dC"
      },
      "execution_count": null,
      "outputs": []
    },
    {
      "cell_type": "code",
      "source": [
        "n = int(0.9*len(data))\n",
        "train_data = data[:n]\n",
        "val_data = data[n:]"
      ],
      "metadata": {
        "id": "NVe6zQHsXHkh"
      },
      "execution_count": null,
      "outputs": []
    },
    {
      "cell_type": "code",
      "source": [],
      "metadata": {
        "colab": {
          "base_uri": "https://localhost:8080/"
        },
        "id": "7_iWHOfTZBV-",
        "outputId": "5755ba98-816a-4268-f381-7d88eb259ee0"
      },
      "execution_count": null,
      "outputs": [
        {
          "output_type": "execute_result",
          "data": {
            "text/plain": [
              "tensor([12,  0,  0, 19, 30, 17, 25, 21, 27, 10,  0, 19, 53, 53, 42,  1, 51, 53,\n",
              "        56, 56, 53, 61,  6,  1, 52, 43, 47, 45, 46, 40, 53, 59, 56,  1, 14, 39,\n",
              "        54, 58, 47, 57, 58, 39,  8,  0,  0, 14, 13, 28, 32, 21, 31, 32, 13, 10,\n",
              "         0, 19, 53, 53, 42,  1, 51, 53, 56, 56, 53, 61,  6,  1, 52, 43, 47, 45,\n",
              "        46, 40, 53, 59, 56,  1, 19, 56, 43, 51, 47, 53,  8,  0, 19, 53, 42,  1,\n",
              "        57, 39, 60, 43,  1, 63, 53, 59,  6,  1, 45, 43, 52, 58, 50, 43, 51, 43,\n",
              "        52,  2,  0,  0, 28, 17, 32, 30, 33, 15, 20, 21, 27, 10,  0, 13, 52, 42,\n",
              "         1, 63, 53, 59,  6,  1, 45, 53, 53, 42,  1, 57, 47, 56,  2,  1, 28, 56,\n",
              "        39, 63,  6,  1, 46, 39, 60, 43,  1, 63, 53, 59,  1, 52, 53, 58,  1, 39,\n",
              "         1, 42, 39, 59, 45, 46, 58, 43, 56,  0, 15, 39, 50, 50,  5, 42,  1, 23,\n",
              "        39, 58, 46, 39, 56, 47, 52, 39,  6,  1, 44, 39, 47, 56,  1, 39, 52, 42,\n",
              "         1, 60, 47, 56, 58, 59, 53, 59, 57, 12,  0,  0, 14, 13, 28, 32, 21, 31,\n",
              "        32, 13, 10,  0, 21,  1, 46, 39, 60, 43,  1, 39,  1, 42, 39, 59, 45, 46,\n",
              "        58, 43, 56,  6,  1, 57, 47, 56,  6,  1, 41, 39, 50, 50, 43, 42,  1, 23,\n",
              "        39, 58, 46, 39, 56, 47, 52, 39,  8,  0,  0, 19, 30, 17, 25, 21, 27, 10,\n",
              "         0, 37, 53, 59,  1, 39, 56, 43,  1, 58, 53, 53,  1, 40, 50, 59, 52, 58,\n",
              "        10,  1, 45, 53,  1, 58, 53,  1, 47, 58,  1, 53, 56, 42, 43, 56, 50, 63,\n",
              "         8,  0,  0, 28, 17, 32, 30, 33, 15, 20, 21, 27, 10,  0, 37, 53, 59,  1,\n",
              "        61, 56, 53, 52, 45,  1, 51, 43,  6,  1, 31, 47, 45, 52, 47, 53, 56,  1,\n",
              "        19, 56, 43, 51, 47, 53, 10,  1, 45, 47, 60, 43,  1, 51, 43,  1, 50, 43,\n",
              "        39, 60, 43,  8,  0, 21,  1, 39, 51,  1, 39,  1, 45, 43, 52, 58, 50, 43,\n",
              "        51, 39, 52,  1, 53, 44,  1, 34, 43, 56, 53, 52, 39,  6,  1, 57, 47, 56,\n",
              "         6,  0, 32, 46, 39, 58,  6,  1, 46, 43, 39, 56, 47, 52, 45,  1, 53, 44,\n",
              "         1, 46, 43, 56,  1, 40, 43, 39, 59, 58, 63,  1, 39, 52, 42,  1, 46, 43,\n",
              "        56,  1, 61, 47, 58,  6,  0, 20, 43, 56,  1, 39, 44, 44, 39, 40, 47, 50,\n",
              "        47, 58, 63,  1, 39, 52, 42,  1, 40, 39, 57, 46, 44, 59, 50,  1, 51, 53,\n",
              "        42, 43, 57, 58, 63,  6,  0, 20, 43, 56,  1, 61, 53, 52, 42, 56, 53, 59,\n",
              "        57,  1, 55, 59, 39, 50, 47, 58, 47, 43, 57,  1, 39, 52])"
            ]
          },
          "metadata": {},
          "execution_count": 21
        }
      ]
    },
    {
      "cell_type": "code",
      "source": [
        "block_size = 8\n",
        "train_data[:block_size + 1]"
      ],
      "metadata": {
        "colab": {
          "base_uri": "https://localhost:8080/"
        },
        "id": "QIv5cvMKZDMF",
        "outputId": "b0e7a26e-d0de-4fbb-9f64-92673392021b"
      },
      "execution_count": null,
      "outputs": [
        {
          "output_type": "execute_result",
          "data": {
            "text/plain": [
              "tensor([18, 47, 56, 57, 58,  1, 15, 47, 58])"
            ]
          },
          "metadata": {},
          "execution_count": 22
        }
      ]
    },
    {
      "cell_type": "code",
      "source": [
        "x = train_data[:block_size]\n",
        "y =  train_data[1:block_size + 1]\n",
        "for t in range(block_size):\n",
        "  context = x[:t + 1]\n",
        "  target = y[t]\n",
        "  print(f\"when input is {context} the target is {target}\")"
      ],
      "metadata": {
        "colab": {
          "base_uri": "https://localhost:8080/"
        },
        "id": "zf6Q5YzjZmi1",
        "outputId": "3467ae67-0cb3-4740-eab7-a356ddb9a048"
      },
      "execution_count": null,
      "outputs": [
        {
          "output_type": "stream",
          "name": "stdout",
          "text": [
            "when input is tensor([18]) the target is 47\n",
            "when input is tensor([18, 47]) the target is 56\n",
            "when input is tensor([18, 47, 56]) the target is 57\n",
            "when input is tensor([18, 47, 56, 57]) the target is 58\n",
            "when input is tensor([18, 47, 56, 57, 58]) the target is 1\n",
            "when input is tensor([18, 47, 56, 57, 58,  1]) the target is 15\n",
            "when input is tensor([18, 47, 56, 57, 58,  1, 15]) the target is 47\n",
            "when input is tensor([18, 47, 56, 57, 58,  1, 15, 47]) the target is 58\n"
          ]
        }
      ]
    }
  ]
}